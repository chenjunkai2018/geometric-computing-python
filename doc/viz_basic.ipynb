{
 "cells": [
  {
   "cell_type": "markdown",
   "metadata": {},
   "source": [
    "# Geometry Processing and Visualization"
   ]
  },
  {
   "cell_type": "markdown",
   "metadata": {},
   "source": [
    "## Installation\n",
    "\n",
    "All libraries (igl, meshplot, wildmeshing, polyfempy) can be installed from [Conda forge](https://anaconda.org/conda-forge) with `conda install -c conda-forge <lib>`. "
   ]
  },
  {
   "cell_type": "markdown",
   "metadata": {},
   "source": [
    "## Import"
   ]
  },
  {
   "cell_type": "code",
   "execution_count": null,
   "metadata": {},
   "outputs": [],
   "source": [
    "import igl\n",
    "import meshplot as mp\n",
    "import numpy as np"
   ]
  },
  {
   "cell_type": "markdown",
   "metadata": {},
   "source": [
    "## Hello World"
   ]
  },
  {
   "cell_type": "code",
   "execution_count": null,
   "metadata": {},
   "outputs": [],
   "source": [
    "v, f = igl.read_triangle_mesh(\"data/bunny.obj\")\n",
    "mp.plot(v, f, v[:, 0])"
   ]
  },
  {
   "cell_type": "markdown",
   "metadata": {
    "slideshow": {
     "slide_type": "-"
    }
   },
   "source": [
    "## Data Representation\n",
    "\n",
    "Meshes are represented by a numpy array of vertex coordinates (nx3) and a numpy array of face indices (mx3) and can be loaded from 3D file formats."
   ]
  },
  {
   "cell_type": "code",
   "execution_count": null,
   "metadata": {
    "slideshow": {
     "slide_type": "-"
    }
   },
   "outputs": [],
   "source": [
    "v: np.array # Array of vertex coordinates (nx3)\n",
    "f: np.array # Array of face indices (mx3)\n",
    "v, f = igl.read_triangle_mesh(\"data/bunny.obj\")\n",
    "print(v)\n",
    "print(f)"
   ]
  },
  {
   "cell_type": "markdown",
   "metadata": {
    "slideshow": {
     "slide_type": "slide"
    }
   },
   "source": [
    "## Visualizing Surfaces and Pointclouds"
   ]
  },
  {
   "cell_type": "code",
   "execution_count": null,
   "metadata": {},
   "outputs": [],
   "source": [
    "mp.plot(v, f, c=v[:, 0])"
   ]
  },
  {
   "cell_type": "code",
   "execution_count": null,
   "metadata": {},
   "outputs": [],
   "source": [
    "mp.plot(v, c=v[:, 0])"
   ]
  },
  {
   "cell_type": "markdown",
   "metadata": {},
   "source": [
    "## Scalar and Vector Field Visualization"
   ]
  },
  {
   "cell_type": "code",
   "execution_count": null,
   "metadata": {},
   "outputs": [],
   "source": [
    "# Calculating properties of the mesh\n",
    "nf = igl.per_face_normals(v, f, np.array([0.0, 0.0, 0.0]))\n",
    "nfv = np.linalg.norm(nf * 0.5 + 0.5, axis=1)\n",
    "nv = igl.per_vertex_normals(v, f)\n",
    "area = igl.doublearea(v, f)\n",
    "avg = igl.avg_edge_length(v, f)\n",
    "\n",
    "v1, v2, k1, k2 = igl.principal_curvature(v, f)\n",
    "mean_curv = 0.5 * (k1 + k2)\n",
    "\n",
    "# Face normals\n",
    "d = mp.subplot(v, f, c=nfv, s=[2, 2, 0])\n",
    "\n",
    "# Vertex normals as lines\n",
    "mp.subplot(v, c=nv, s=[2, 2, 1], data=d)\n",
    "d.rows[0][1].add_lines(v, v + nv * avg)\n",
    "\n",
    "# Mean curvature + directions\n",
    "mp.subplot(v, f, c=mean_curv, s=[2, 2, 2], data=d)\n",
    "d.rows[1][0].add_lines(v + v1 * avg/3, v - v1 * avg/3, shading={\"line_color\": \"red\"})\n",
    "d.rows[1][0].add_lines(v + v2 * avg/3, v - v2 * avg/3, shading={\"line_color\": \"green\"})\n",
    "\n",
    "# Triangle area\n",
    "mp.subplot(v, f, c=-area, s=[2, 2, 3], shading={\"metalness\": 0.0, \"roughness\": 1.0}, data=d)"
   ]
  },
  {
   "cell_type": "markdown",
   "metadata": {},
   "source": [
    "## Texture Mapping"
   ]
  },
  {
   "cell_type": "code",
   "execution_count": null,
   "metadata": {},
   "outputs": [],
   "source": [
    "vc, fc = igl.read_triangle_mesh(\"data/camelhead.off\")\n",
    "\n",
    "# Find the open boundary\n",
    "bnd = igl.boundary_loop(fc)\n",
    "\n",
    "# Map the boundary to a circle, preserving edge proportions\n",
    "bnd_uv = igl.map_vertices_to_circle(vc, bnd)\n",
    "\n",
    "# Harmonic parametrization for the internal vertices\n",
    "uv = igl.harmonic_weights(vc, fc, bnd, bnd_uv, 1)\n",
    "\n",
    "# Plotting the results\n",
    "p = mp.subplot(vc, fc, uv=uv, s=[1, 2, 0])\n",
    "mp.subplot(uv, fc, uv=uv, shading={\"wireframe\": True, \"wire_color\": \"red\", \"wire_width\": 1.0}, s=[1, 2, 1], data=p)\n",
    "\n",
    "# Adding the boundary\n",
    "p.rows[0][0].add_points(vc[bnd], shading={\"point_size\": 0.1});\n",
    "lines = np.vstack([bnd, np.roll(bnd, -1)]).T\n",
    "p.rows[0][0].add_edges(vc, lines, shading={\"line_width\": 1.0, \"line_color\": \"red\"});\n",
    "p"
   ]
  },
  {
   "cell_type": "markdown",
   "metadata": {},
   "source": [
    "## Interactive Geometry Modification"
   ]
  },
  {
   "cell_type": "code",
   "execution_count": null,
   "metadata": {},
   "outputs": [],
   "source": [
    "from scipy.sparse.linalg import spsolve\n",
    "\n",
    "v, f = igl.read_triangle_mesh(\"data/cow.off\")\n",
    "l = igl.cotmatrix(v, f)\n",
    "\n",
    "n = igl.per_vertex_normals(v, f) * 0.5 + 0.5\n",
    "c = np.linalg.norm(n, axis=1)\n",
    "p = mp.plot(v, f, c, return_plot=True)\n",
    "\n",
    "# Precalculate intermediate states\n",
    "vs = [v]\n",
    "cs = [c]\n",
    "for i in range(10):\n",
    "    m = igl.massmatrix(v, f, igl.MASSMATRIX_TYPE_BARYCENTRIC)\n",
    "    s = (m - 0.001 * l)\n",
    "    b = m.dot(v)\n",
    "    v = spsolve(s, m.dot(v))\n",
    "    n = igl.per_vertex_normals(v, f)*0.5+0.5\n",
    "    c = np.linalg.norm(n, axis=1)\n",
    "    vs.append(v)\n",
    "    cs.append(c)\n",
    "\n",
    "# Add interactive visulization\n",
    "@mp.interact(level=(0, 9))\n",
    "def mcf(level=0):\n",
    "    p.update_object(vertices=vs[level], colors=cs[level])\n",
    "p"
   ]
  },
  {
   "cell_type": "markdown",
   "metadata": {},
   "source": [
    "## Saving Results and Offline Visualization"
   ]
  },
  {
   "cell_type": "code",
   "execution_count": null,
   "metadata": {},
   "outputs": [],
   "source": [
    "# Save the previous result\n",
    "p.save(\"test1.html\")\n",
    "\n",
    "# Load a new mesh\n",
    "v, f = igl.read_triangle_mesh(\"data/bumpy.off\")\n",
    "\n",
    "# Switch to offline plotting\n",
    "mp.offline()\n",
    "mp.plot(v, f, c=np.random.rand(*f.shape))\n",
    "\n",
    "# Switch to jupyter plotting\n",
    "mp.jupyter()\n",
    "p = mp.plot(v, f, c=np.random.rand(*f.shape), shading={\"width\":900, \"height\": 1000}, return_plot=True)\n",
    "p.add_mesh(v + 5, f, c=v[:,1]);\n",
    "p.add_points(v - 5, c=v[:,2], shading={\"point_size\": 1.0})\n",
    "p.save(\"test2.html\")\n",
    "p"
   ]
  },
  {
   "cell_type": "markdown",
   "metadata": {},
   "source": [
    "## Advanced Examples"
   ]
  },
  {
   "cell_type": "code",
   "execution_count": null,
   "metadata": {},
   "outputs": [],
   "source": [
    "import scipy as sp\n",
    "\n",
    "v, f = igl.read_triangle_mesh(\"data/beetle.off\")\n",
    "l = -igl.cotmatrix(v, f)\n",
    "m = igl.massmatrix(v, f, igl.MASSMATRIX_TYPE_VORONOI)\n",
    "\n",
    "d, u = sp.sparse.linalg.eigsh(l, 10, m, sigma=0, which=\"LM\")\n",
    "\n",
    "u = (u - np.min(u)) / (np.max(u) - np.min(u))\n",
    "bbd = 0.5 * np.linalg.norm(np.max(v, axis=0) - np.min(v, axis=0))\n",
    "\n",
    "p = mp.plot(v, f, bbd * u[:, 0], shading={\"wireframe\":False, \"flat\": False}, return_plot=True)\n",
    "\n",
    "@mp.interact(ev=[(\"EV %i\"%i, i) for i in range(10)])\n",
    "def sf(ev):\n",
    "    p.update_object(colors=u[:, ev])\n",
    "p"
   ]
  },
  {
   "cell_type": "code",
   "execution_count": null,
   "metadata": {},
   "outputs": [],
   "source": [
    "v, f = igl.read_triangle_mesh(\"data/bunny.obj\")\n",
    "\n",
    "# Select a vertex from which the distances should be calculated\n",
    "vs = np.array([0])\n",
    "# All vertices are the targets\n",
    "vt = np.arange(v.shape[0])\n",
    "\n",
    "d = igl.exact_geodesic(v, f, vs, vt)\n",
    "\n",
    "# The function should be 1 on each integer coordinate\n",
    "c = np.abs(np.sin((d / 0.04 * np.pi)))\n",
    "mp.plot(v, f, c, shading={\"wireframe\": False}, return_plot=True)"
   ]
  },
  {
   "cell_type": "code",
   "execution_count": null,
   "metadata": {},
   "outputs": [],
   "source": [
    "v, f = igl.read_triangle_mesh(\"data/decimated-max.obj\")\n",
    "v[:,[0, 2]] = v[:,[2, 0]] # Swap X and Z axes\n",
    "u = v.copy()\n",
    "\n",
    "s = igl.read_dmat(\"data/decimated-max-selection.dmat\")\n",
    "b = np.array([[t[0] for t in [(i, s[i]) for i in range(0, v.shape[0])] if t[1] >= 0]]).T\n",
    "\n",
    "## Boundary conditions directly on deformed positions\n",
    "u_bc = np.zeros((b.shape[0], v.shape[1]))\n",
    "v_bc = np.zeros((b.shape[0], v.shape[1]))\n",
    "\n",
    "for bi in range(b.shape[0]):\n",
    "    v_bc[bi] = v[b[bi]]\n",
    "\n",
    "    if s[b[bi]] == 0: # Don't move handle 0\n",
    "        u_bc[bi] = v[b[bi]]\n",
    "    elif s[b[bi]] == 1: # Move handle 1 down\n",
    "        u_bc[bi] = v[b[bi]] + np.array([[0, -50, 0]])\n",
    "    else: # Move other handles forward\n",
    "        u_bc[bi] = v[b[bi]] + np.array([[-25, 0, 0]])\n",
    "\n",
    "p = mp.plot(v, f, s, shading={\"colormap\": \"tab10\"}, return_plot=True)\n",
    "\n",
    "@mp.interact(deformation_field=True, step=(0.0, 2.0))\n",
    "def update(deformation_field, step=0.0):\n",
    "    # Determine boundary conditions\n",
    "    u_bc_anim = v_bc + step * (u_bc - v_bc)\n",
    "\n",
    "    if deformation_field:\n",
    "        d_bc = u_bc_anim - v_bc\n",
    "        d = igl.harmonic_weights(v, f, b, d_bc, 2)\n",
    "        u = v + d\n",
    "    else:\n",
    "        u = igl.harmonic_weights(v, f, b, u_bc_anim, 2)\n",
    "    p.update_object(vertices=u)\n",
    "p"
   ]
  },
  {
   "cell_type": "code",
   "execution_count": null,
   "metadata": {},
   "outputs": [],
   "source": []
  }
 ],
 "metadata": {
  "kernelspec": {
   "display_name": "Python 3",
   "language": "python",
   "name": "python3"
  },
  "language_info": {
   "codemirror_mode": {
    "name": "ipython",
    "version": 3
   },
   "file_extension": ".py",
   "mimetype": "text/x-python",
   "name": "python",
   "nbconvert_exporter": "python",
   "pygments_lexer": "ipython3",
   "version": "3.7.3"
  },
  "rise": {
   "progress": false,
   "scroll": true,
   "slidenumber": false,
   "theme": "while",
   "transition": "none"
  }
 },
 "nbformat": 4,
 "nbformat_minor": 2
}
