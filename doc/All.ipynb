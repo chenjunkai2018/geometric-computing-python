{
 "cells": [
  {
   "cell_type": "code",
   "execution_count": null,
   "metadata": {},
   "outputs": [],
   "source": [
    "import numpy as np\n",
    "import math\n",
    "import igl\n",
    "import meshplot as mp\n",
    "import wildmeshing as wm\n",
    "import polyfempy as pf"
   ]
  },
  {
   "cell_type": "markdown",
   "metadata": {},
   "source": [
    "Read the mesh"
   ]
  },
  {
   "cell_type": "code",
   "execution_count": null,
   "metadata": {},
   "outputs": [],
   "source": [
    "V, F = igl.read_triangle_mesh(\"mesh.obj\")\n",
    "mp.plot(V, F)"
   ]
  },
  {
   "cell_type": "markdown",
   "metadata": {},
   "source": [
    "Get mesh bounding box and center"
   ]
  },
  {
   "cell_type": "code",
   "execution_count": null,
   "metadata": {},
   "outputs": [],
   "source": [
    "minn = np.min(V, axis=0)\n",
    "maxx = np.max(V, axis=0)\n",
    "\n",
    "center = (minn+maxx)/2"
   ]
  },
  {
   "cell_type": "markdown",
   "metadata": {},
   "source": [
    "Function to select sidesets:\n",
    "\n",
    "- Sideset 2: $z$-component close to the bottom boundary `minn[2]` and larger than $y$ of center\n",
    "- Sideset 3: $z$-component close to the bottom boundary `minn[2]` and smaller than $y$ of center"
   ]
  },
  {
   "cell_type": "code",
   "execution_count": 1,
   "metadata": {},
   "outputs": [],
   "source": [
    "def sideset(p):\n",
    "    if abs(p[2] - minn[2]) < 0.5:\n",
    "        if p[1] > center[1]:\n",
    "            return 2\n",
    "        else:\n",
    "            return 3\n",
    "    return 1"
   ]
  },
  {
   "cell_type": "markdown",
   "metadata": {},
   "source": [
    "Wildmeshing tetrahedralization"
   ]
  },
  {
   "cell_type": "code",
   "execution_count": null,
   "metadata": {},
   "outputs": [],
   "source": [
    "wm.tetrahedralize(\"mesh.obj\", \"out.mesh\", mute_log=True)"
   ]
  },
  {
   "cell_type": "markdown",
   "metadata": {},
   "source": [
    "Loading the mesh"
   ]
  },
  {
   "cell_type": "code",
   "execution_count": null,
   "metadata": {},
   "outputs": [],
   "source": [
    "solver = pf.Solver()\n",
    "solver.load_mesh_from_path(\"out.mesh\")"
   ]
  },
  {
   "cell_type": "markdown",
   "metadata": {},
   "source": [
    "Using the previous function as sidesets and visualization for confirmation"
   ]
  },
  {
   "cell_type": "code",
   "execution_count": null,
   "metadata": {},
   "outputs": [],
   "source": [
    "solver.set_boundary_side_set_from_bary(sideset)\n",
    "\n",
    "ps, ts, s = solver.get_boundary_sidesets()\n",
    "\n",
    "col = np.zeros_like(s)\n",
    "col[s==2] = 2\n",
    "col[s==3] = 3\n",
    "\n",
    "mp.plot(ps, ts, col, shading={\"wireframe\": False})"
   ]
  },
  {
   "cell_type": "markdown",
   "metadata": {},
   "source": [
    "Setup the problem"
   ]
  },
  {
   "cell_type": "code",
   "execution_count": null,
   "metadata": {},
   "outputs": [],
   "source": [
    "settings = pf.Settings()\n",
    "problem = pf.Problem()\n",
    "\n",
    "settings.set_pde(pf.PDEs.LinearElasticity)\n",
    "\n",
    "settings.set_material_params(\"E\", 200)\n",
    "settings.set_material_params(\"nu\", 0.35)\n",
    "\n",
    "\n",
    "problem.set_displacement(2, [0, 0, 0])\n",
    "problem.set_force(3, [0, 0.5, 0])\n",
    "\n",
    "settings.set_problem(problem)"
   ]
  },
  {
   "cell_type": "markdown",
   "metadata": {},
   "source": [
    "Solve!"
   ]
  },
  {
   "cell_type": "code",
   "execution_count": null,
   "metadata": {},
   "outputs": [],
   "source": [
    "solver.settings(settings)\n",
    "solver.solve()"
   ]
  },
  {
   "cell_type": "markdown",
   "metadata": {},
   "source": [
    "Visualization of displacement and stresses"
   ]
  },
  {
   "cell_type": "code",
   "execution_count": null,
   "metadata": {},
   "outputs": [],
   "source": [
    "p, t, d = solver.get_sampled_solution()\n",
    "m, _ = solver.get_sampled_mises_avg()"
   ]
  },
  {
   "cell_type": "code",
   "execution_count": null,
   "metadata": {},
   "outputs": [],
   "source": [
    "mp.plot(p+d, t, m, shading={\"wireframe\": False})"
   ]
  },
  {
   "cell_type": "code",
   "execution_count": null,
   "metadata": {},
   "outputs": [],
   "source": []
  }
 ],
 "metadata": {
  "kernelspec": {
   "display_name": "Python 3",
   "language": "python",
   "name": "python3"
  },
  "language_info": {
   "codemirror_mode": {
    "name": "ipython",
    "version": 3
   },
   "file_extension": ".py",
   "mimetype": "text/x-python",
   "name": "python",
   "nbconvert_exporter": "python",
   "pygments_lexer": "ipython3",
   "version": "3.7.3"
  }
 },
 "nbformat": 4,
 "nbformat_minor": 2
}
